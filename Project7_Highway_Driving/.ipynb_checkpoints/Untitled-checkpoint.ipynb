{
 "cells": [
  {
   "cell_type": "markdown",
   "metadata": {},
   "source": [
    "# CarND-Path-Planning-Project\n",
    "Project submit for Self-Driving Car Engineer Nanodegree Program\n",
    "   \n",
    "### Goals\n",
    "* #### The code compiles correctly.\n",
    "    The code was able to compile sucessfully\n",
    "* #### The car is able to drive at least 4.32 miles without incident..\n",
    "    Yes the car was able to drive >4.32 miles without incident..\n",
    "* #### The car drives according to the speed limit.\n",
    "    The car drives according to the speed limit.\n",
    "* #### Max Acceleration and Jerk are not Exceeded.\n",
    "    The car does not exceed a total acceleration of 10 m/s^2 and a jerk of 10 m/s^3. In face, I set a global constant variable for the maximum acceleration which is set to be 8 m/s^2, and maximum jerk was satisfied with the spline function smoothing. And every iteration the vehicle keeps part of previously planned path for smooth transition, max number of history path points is configuration (currently 5 ponits).\n",
    "\n",
    "* #### Car does not have collisions.\n",
    "    The car was able to drive without collisions.\n",
    "\n",
    "* #### The car stays in its lane, except for the time between changing lanes.\n",
    "    The car only changes its lane when necessary and the time for lane change doesn't exceed 3 seconds.\n",
    "\n",
    "* #### The car is able to change lanes\n",
    "\n",
    "    The car is able to smoothly change lanes when it makes sense to do so, such as when behind a slower moving car and an adjacent lane is clear of other traffic.\n",
    "\n",
    "### How the path planner works\n",
    "\n",
    "The path planner uses idea of finite state machine, and the state of the vehicle can be one of these three {*keep_lane*, *move_left*, *move_right*}.\n",
    "    At each iteration, the path planner reuses previous iteration's planned path for up to 5 data points (configurable at line 121 in main.cpp), this helps with smooth transitions and minimize the jerk.\n",
    "    The path planner scans through the sensor fusion data to prepare some flags for deciding to keep lane or change lane, i.e, *left_traffic* becomes true if there is object on left lane within a predefined safe distance (*safe_dist*) of current vehicle (code line 187-198 in main.cpp), similarly there is a *right_traffic* flag (code line 202-215). And *target_v* is an array that stores maximum speed the vehicle could safely travel in each lane, based on the objects in front of current vehicle in each lane.\n",
    "    The path planner then decide whether to change lane left, right or stay in lane, based on the flags set in the above step. Detailed logic is below:\n",
    "  - if current state is *keep_lane* \n",
    "    - if it's safe to move left (*left_traffic* is false) and the target speed can increase (*target_v[curr_lane-1]>target_v[curr_lane]*), switch state to *move_left* and set target lane to be left or right lane.\n",
    "    - else if it's safe to move right (*right_traffic* is false) and the target speed can increase (*target_v[curr_lane+1]>target_v[curr_lane]*), switch state to *move_right*.\n",
    "  - if current state is *move_left* \n",
    "    - if current lane is already the target lane, switch state to *keep_lane*\n",
    "  - if current state is *move_right* \n",
    "    - if current lane is already the target lane, switch state to *keep_lane* \n",
    "   \n",
    "After the path planner decides what to do next, it will generate the trajectory by adding a few waypoints that are s = 30, 60, and 90 meters ahead of current vehicle, while the d value is dependent on the target lane. These waypoints, in together with current vehicle location and previously planned path points, are all used for spline fitting to get smooth trajectory. During this process the x-y coordinates are tansformed to vehicle coordinate to help fitting, and then transformed back to x-y coordinates for getting path points. When picking points for path planner, the vehicle speed and acceleration are being considered to make sure the distance between points are within our requirement for max speed and acceleration (code line 318-350)"
   ]
  }
 ],
 "metadata": {
  "kernelspec": {
   "display_name": "MyPy34_tensorflow",
   "language": "python",
   "name": "mypy34_tensorflow"
  },
  "language_info": {
   "codemirror_mode": {
    "name": "ipython",
    "version": 3
   },
   "file_extension": ".py",
   "mimetype": "text/x-python",
   "name": "python",
   "nbconvert_exporter": "python",
   "pygments_lexer": "ipython3",
   "version": "3.4.5"
  }
 },
 "nbformat": 4,
 "nbformat_minor": 2
}
