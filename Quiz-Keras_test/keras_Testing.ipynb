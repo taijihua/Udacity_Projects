{
 "cells": [
  {
   "cell_type": "code",
   "execution_count": 1,
   "metadata": {},
   "outputs": [],
   "source": [
    "import pickle\n",
    "import numpy as np\n",
    "import tensorflow as tf\n",
    "\n",
    "# Load pickled data\n",
    "with open('small_train_traffic.p', mode='rb') as f:\n",
    "    data = pickle.load(f)"
   ]
  },
  {
   "cell_type": "code",
   "execution_count": 2,
   "metadata": {},
   "outputs": [],
   "source": [
    "# Split the data\n",
    "X_train, y_train = data['features'], data['labels']"
   ]
  },
  {
   "cell_type": "code",
   "execution_count": 3,
   "metadata": {},
   "outputs": [
    {
     "name": "stderr",
     "output_type": "stream",
     "text": [
      "Using TensorFlow backend.\n"
     ]
    }
   ],
   "source": [
    "# Setup Keras\n",
    "from keras.models import Sequential\n",
    "from keras.layers.core import Dense, Activation, Flatten, Dropout\n",
    "from keras.layers.convolutional import Conv2D\n",
    "from keras.layers.pooling import MaxPooling2D"
   ]
  },
  {
   "cell_type": "code",
   "execution_count": 4,
   "metadata": {},
   "outputs": [],
   "source": [
    "# TODO: Build the Final Test Neural Network in Keras Here\n",
    "model = Sequential()\n",
    "model.add(Conv2D(32, kernel_size=(3,3), strides=(1, 1), padding='valid', activation='relu',  input_shape=(32,32,3)))\n",
    "model.add(MaxPooling2D(pool_size=(2, 2), strides=(2, 2)))\n",
    "model.add(Flatten())\n",
    "model.add(Dense(128))\n",
    "model.add(Activation('relu'))\n",
    "model.add(Dense(5))\n",
    "model.add(Activation('softmax'))"
   ]
  },
  {
   "cell_type": "code",
   "execution_count": 5,
   "metadata": {},
   "outputs": [],
   "source": [
    "# preprocess data\n",
    "X_normalized = np.array(X_train / 255.0 - 0.5 )\n",
    "\n",
    "from sklearn.preprocessing import LabelBinarizer\n",
    "label_binarizer = LabelBinarizer()\n",
    "y_one_hot = label_binarizer.fit_transform(y_train)"
   ]
  },
  {
   "cell_type": "code",
   "execution_count": 6,
   "metadata": {},
   "outputs": [
    {
     "name": "stdout",
     "output_type": "stream",
     "text": [
      "Train on 80 samples, validate on 20 samples\n",
      "Epoch 1/30\n",
      "80/80 [==============================] - 1s 7ms/step - loss: 1.3498 - acc: 0.4125 - val_loss: 0.8763 - val_acc: 0.6000\n",
      "Epoch 2/30\n",
      "80/80 [==============================] - 0s 3ms/step - loss: 0.9062 - acc: 0.5375 - val_loss: 0.6034 - val_acc: 0.8500\n",
      "Epoch 3/30\n",
      "80/80 [==============================] - 0s 3ms/step - loss: 0.7305 - acc: 0.7125 - val_loss: 0.4930 - val_acc: 0.8500\n",
      "Epoch 4/30\n",
      "80/80 [==============================] - 0s 3ms/step - loss: 0.5485 - acc: 0.7750 - val_loss: 0.3884 - val_acc: 0.8500\n",
      "Epoch 5/30\n",
      "80/80 [==============================] - 0s 3ms/step - loss: 0.4641 - acc: 0.7875 - val_loss: 0.3073 - val_acc: 0.8500\n",
      "Epoch 6/30\n",
      "80/80 [==============================] - 0s 3ms/step - loss: 0.4207 - acc: 0.8000 - val_loss: 0.2684 - val_acc: 0.8500\n",
      "Epoch 7/30\n",
      "80/80 [==============================] - 0s 3ms/step - loss: 0.3710 - acc: 0.7875 - val_loss: 0.2365 - val_acc: 0.8500\n",
      "Epoch 8/30\n",
      "80/80 [==============================] - 0s 3ms/step - loss: 0.3058 - acc: 0.8875 - val_loss: 0.1945 - val_acc: 1.0000\n",
      "Epoch 9/30\n",
      "80/80 [==============================] - 0s 3ms/step - loss: 0.2726 - acc: 0.9250 - val_loss: 0.1892 - val_acc: 1.0000\n",
      "Epoch 10/30\n",
      "80/80 [==============================] - 0s 3ms/step - loss: 0.2906 - acc: 0.9000 - val_loss: 0.1697 - val_acc: 1.0000\n",
      "Epoch 11/30\n",
      "80/80 [==============================] - 0s 3ms/step - loss: 0.2221 - acc: 0.9625 - val_loss: 0.1830 - val_acc: 0.8500\n",
      "Epoch 12/30\n",
      "80/80 [==============================] - 0s 3ms/step - loss: 0.2419 - acc: 0.8250 - val_loss: 0.1464 - val_acc: 1.0000\n",
      "Epoch 13/30\n",
      "80/80 [==============================] - 0s 3ms/step - loss: 0.2034 - acc: 1.0000 - val_loss: 0.1437 - val_acc: 1.0000\n",
      "Epoch 14/30\n",
      "80/80 [==============================] - 0s 3ms/step - loss: 0.1909 - acc: 1.0000 - val_loss: 0.1367 - val_acc: 1.0000\n",
      "Epoch 15/30\n",
      "80/80 [==============================] - 0s 3ms/step - loss: 0.1931 - acc: 0.8750 - val_loss: 0.1348 - val_acc: 0.9500\n",
      "Epoch 16/30\n",
      "80/80 [==============================] - 0s 3ms/step - loss: 0.1833 - acc: 0.9625 - val_loss: 0.1203 - val_acc: 1.0000\n",
      "Epoch 17/30\n",
      "80/80 [==============================] - 0s 3ms/step - loss: 0.1667 - acc: 0.9875 - val_loss: 0.1120 - val_acc: 1.0000\n",
      "Epoch 18/30\n",
      "80/80 [==============================] - 0s 3ms/step - loss: 0.1426 - acc: 1.0000 - val_loss: 0.1056 - val_acc: 1.0000\n",
      "Epoch 19/30\n",
      "80/80 [==============================] - 0s 3ms/step - loss: 0.1521 - acc: 0.9750 - val_loss: 0.0870 - val_acc: 1.0000\n",
      "Epoch 20/30\n",
      "80/80 [==============================] - 0s 3ms/step - loss: 0.1437 - acc: 0.9875 - val_loss: 0.0791 - val_acc: 1.0000\n",
      "Epoch 21/30\n",
      "80/80 [==============================] - 0s 3ms/step - loss: 0.1170 - acc: 0.9750 - val_loss: 0.0753 - val_acc: 1.0000\n",
      "Epoch 22/30\n",
      "80/80 [==============================] - 0s 3ms/step - loss: 0.1204 - acc: 1.0000 - val_loss: 0.0984 - val_acc: 1.0000\n",
      "Epoch 23/30\n",
      "80/80 [==============================] - 0s 3ms/step - loss: 0.1169 - acc: 1.0000 - val_loss: 0.0701 - val_acc: 1.0000\n",
      "Epoch 24/30\n",
      "80/80 [==============================] - 0s 3ms/step - loss: 0.0988 - acc: 1.0000 - val_loss: 0.0544 - val_acc: 1.0000\n",
      "Epoch 25/30\n",
      "80/80 [==============================] - 0s 3ms/step - loss: 0.0793 - acc: 1.0000 - val_loss: 0.0544 - val_acc: 1.0000\n",
      "Epoch 26/30\n",
      "80/80 [==============================] - 0s 2ms/step - loss: 0.0742 - acc: 1.0000 - val_loss: 0.0526 - val_acc: 1.0000\n",
      "Epoch 27/30\n",
      "80/80 [==============================] - 0s 2ms/step - loss: 0.0672 - acc: 1.0000 - val_loss: 0.0474 - val_acc: 1.0000\n",
      "Epoch 28/30\n",
      "80/80 [==============================] - 0s 3ms/step - loss: 0.0677 - acc: 1.0000 - val_loss: 0.0369 - val_acc: 1.0000\n",
      "Epoch 29/30\n",
      "80/80 [==============================] - 0s 3ms/step - loss: 0.0555 - acc: 1.0000 - val_loss: 0.0342 - val_acc: 1.0000\n",
      "Epoch 30/30\n",
      "80/80 [==============================] - 0s 3ms/step - loss: 0.0497 - acc: 1.0000 - val_loss: 0.0334 - val_acc: 1.0000\n"
     ]
    }
   ],
   "source": [
    "# compile and fit the model\n",
    "model.compile('adam', 'categorical_crossentropy', ['accuracy'])\n",
    "history = model.fit(X_normalized, y_one_hot, epochs=30, validation_split=0.2)"
   ]
  },
  {
   "cell_type": "code",
   "execution_count": 7,
   "metadata": {},
   "outputs": [
    {
     "name": "stdout",
     "output_type": "stream",
     "text": [
      "Testing\n",
      "20/20 [==============================] - 0s 619us/step\n",
      "loss: 0.06746219843626022\n",
      "acc: 1.0\n"
     ]
    }
   ],
   "source": [
    "# evaluate model against the test data\n",
    "with open('small_test_traffic.p', 'rb') as f:\n",
    "    data_test = pickle.load(f)\n",
    "\n",
    "X_test = data_test['features']\n",
    "y_test = data_test['labels']\n",
    "\n",
    "# preprocess data\n",
    "X_normalized_test = np.array(X_test / 255.0 - 0.5 )\n",
    "y_one_hot_test = label_binarizer.fit_transform(y_test)\n",
    "\n",
    "print(\"Testing\")\n",
    "\n",
    "metrics = model.evaluate(X_normalized_test, y_one_hot_test)\n",
    "for metric_i in range(len(model.metrics_names)):\n",
    "    metric_name = model.metrics_names[metric_i]\n",
    "    metric_value = metrics[metric_i]\n",
    "    print('{}: {}'.format(metric_name, metric_value))    "
   ]
  },
  {
   "cell_type": "code",
   "execution_count": 8,
   "metadata": {},
   "outputs": [
    {
     "name": "stdout",
     "output_type": "stream",
     "text": [
      "Nice, accuracy was 1.0\n",
      "Good Job, accuracy was above 90%\n",
      "\n"
     ]
    }
   ],
   "source": [
    "### DON'T MODIFY ANYTHING BELOW ###\n",
    "### Be sure to run all cells above before running this cell ###\n",
    "import grader\n",
    "\n",
    "try:\n",
    "    grader.run_grader(metrics)\n",
    "except Exception as err:\n",
    "    print(str(err))"
   ]
  }
 ],
 "metadata": {
  "kernelspec": {
   "display_name": "Python 3",
   "language": "python",
   "name": "python3"
  },
  "language_info": {
   "codemirror_mode": {
    "name": "ipython",
    "version": 3
   },
   "file_extension": ".py",
   "mimetype": "text/x-python",
   "name": "python",
   "nbconvert_exporter": "python",
   "pygments_lexer": "ipython3",
   "version": "3.6.3"
  }
 },
 "nbformat": 4,
 "nbformat_minor": 2
}
