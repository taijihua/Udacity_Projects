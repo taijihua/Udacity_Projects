{
 "cells": [
  {
   "cell_type": "code",
   "execution_count": 4,
   "metadata": {},
   "outputs": [],
   "source": [
    "# This file creates the model for project 4 - behavior cloning\n",
    "# The model is selected to be ResNet - \n",
    "import keras\n",
    "import numpy as np\n",
    "from keras.applications import resnet50\n",
    "#from keras.applications import vgg16, inception_v3, resnet50, mobilenet\n",
    "resnet_model = resnet50.ResNet50(include_top=False, weights='imagenet', input_tensor=None, input_shape=None, pooling=None, classes=1000)\n"
   ]
  }
 ],
 "metadata": {
  "kernelspec": {
   "display_name": "carnd-term1",
   "language": "python",
   "name": "carnd-term1"
  },
  "language_info": {
   "codemirror_mode": {
    "name": "ipython",
    "version": 3
   },
   "file_extension": ".py",
   "mimetype": "text/x-python",
   "name": "python",
   "nbconvert_exporter": "python",
   "pygments_lexer": "ipython3",
   "version": "3.5.2"
  }
 },
 "nbformat": 4,
 "nbformat_minor": 2
}
